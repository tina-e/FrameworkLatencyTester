{
 "cells": [
  {
   "cell_type": "code",
   "execution_count": 1,
   "metadata": {},
   "outputs": [],
   "source": [
    "import pandas as pd\n",
    "import matplotlib.pyplot as plt\n",
    "import seaborn as sns\n",
    "import os"
   ]
  },
  {
   "cell_type": "code",
   "execution_count": 4,
   "metadata": {},
   "outputs": [
    {
     "data": {
      "text/plain": [
       "['getpixel.csv', 'getpixel_ohne.csv']"
      ]
     },
     "execution_count": 4,
     "metadata": {},
     "output_type": "execute_result"
    }
   ],
   "source": [
    "files = os.listdir(\"./data/\")\n",
    "files = [x for x in files if 'csv' in x]\n",
    "files"
   ]
  },
  {
   "cell_type": "code",
   "execution_count": 8,
   "metadata": {},
   "outputs": [
    {
     "data": {
      "text/html": [
       "<div>\n",
       "<style scoped>\n",
       "    .dataframe tbody tr th:only-of-type {\n",
       "        vertical-align: middle;\n",
       "    }\n",
       "\n",
       "    .dataframe tbody tr th {\n",
       "        vertical-align: top;\n",
       "    }\n",
       "\n",
       "    .dataframe thead th {\n",
       "        text-align: right;\n",
       "    }\n",
       "</style>\n",
       "<table border=\"1\" class=\"dataframe\">\n",
       "  <thead>\n",
       "    <tr style=\"text-align: right;\">\n",
       "      <th></th>\n",
       "      <th>Unnamed: 0</th>\n",
       "      <th>id</th>\n",
       "      <th>framework</th>\n",
       "      <th>fw_running</th>\n",
       "      <th>ete</th>\n",
       "      <th>fw</th>\n",
       "      <th>diff</th>\n",
       "    </tr>\n",
       "  </thead>\n",
       "  <tbody>\n",
       "    <tr>\n",
       "      <th>0</th>\n",
       "      <td>0</td>\n",
       "      <td>0</td>\n",
       "      <td>pygame_default</td>\n",
       "      <td>True</td>\n",
       "      <td>50540</td>\n",
       "      <td>52409</td>\n",
       "      <td>-1.869</td>\n",
       "    </tr>\n",
       "    <tr>\n",
       "      <th>1</th>\n",
       "      <td>1</td>\n",
       "      <td>1</td>\n",
       "      <td>pygame_default</td>\n",
       "      <td>True</td>\n",
       "      <td>62844</td>\n",
       "      <td>29922</td>\n",
       "      <td>32.922</td>\n",
       "    </tr>\n",
       "    <tr>\n",
       "      <th>2</th>\n",
       "      <td>2</td>\n",
       "      <td>2</td>\n",
       "      <td>pygame_default</td>\n",
       "      <td>True</td>\n",
       "      <td>53556</td>\n",
       "      <td>72684</td>\n",
       "      <td>-19.128</td>\n",
       "    </tr>\n",
       "    <tr>\n",
       "      <th>3</th>\n",
       "      <td>3</td>\n",
       "      <td>3</td>\n",
       "      <td>pygame_default</td>\n",
       "      <td>True</td>\n",
       "      <td>46504</td>\n",
       "      <td>35441</td>\n",
       "      <td>11.063</td>\n",
       "    </tr>\n",
       "    <tr>\n",
       "      <th>4</th>\n",
       "      <td>4</td>\n",
       "      <td>4</td>\n",
       "      <td>pygame_default</td>\n",
       "      <td>True</td>\n",
       "      <td>49168</td>\n",
       "      <td>35441</td>\n",
       "      <td>13.727</td>\n",
       "    </tr>\n",
       "    <tr>\n",
       "      <th>...</th>\n",
       "      <td>...</td>\n",
       "      <td>...</td>\n",
       "      <td>...</td>\n",
       "      <td>...</td>\n",
       "      <td>...</td>\n",
       "      <td>...</td>\n",
       "      <td>...</td>\n",
       "    </tr>\n",
       "    <tr>\n",
       "      <th>95</th>\n",
       "      <td>95</td>\n",
       "      <td>95</td>\n",
       "      <td>pygame_default</td>\n",
       "      <td>False</td>\n",
       "      <td>49756</td>\n",
       "      <td>0</td>\n",
       "      <td>49.756</td>\n",
       "    </tr>\n",
       "    <tr>\n",
       "      <th>96</th>\n",
       "      <td>96</td>\n",
       "      <td>96</td>\n",
       "      <td>pygame_default</td>\n",
       "      <td>False</td>\n",
       "      <td>63416</td>\n",
       "      <td>0</td>\n",
       "      <td>63.416</td>\n",
       "    </tr>\n",
       "    <tr>\n",
       "      <th>97</th>\n",
       "      <td>97</td>\n",
       "      <td>97</td>\n",
       "      <td>pygame_default</td>\n",
       "      <td>False</td>\n",
       "      <td>42472</td>\n",
       "      <td>0</td>\n",
       "      <td>42.472</td>\n",
       "    </tr>\n",
       "    <tr>\n",
       "      <th>98</th>\n",
       "      <td>98</td>\n",
       "      <td>98</td>\n",
       "      <td>pygame_default</td>\n",
       "      <td>False</td>\n",
       "      <td>50304</td>\n",
       "      <td>0</td>\n",
       "      <td>50.304</td>\n",
       "    </tr>\n",
       "    <tr>\n",
       "      <th>99</th>\n",
       "      <td>99</td>\n",
       "      <td>99</td>\n",
       "      <td>pygame_default</td>\n",
       "      <td>False</td>\n",
       "      <td>47376</td>\n",
       "      <td>0</td>\n",
       "      <td>47.376</td>\n",
       "    </tr>\n",
       "  </tbody>\n",
       "</table>\n",
       "<p>200 rows × 7 columns</p>\n",
       "</div>"
      ],
      "text/plain": [
       "    Unnamed: 0  id       framework  fw_running    ete     fw    diff\n",
       "0            0   0  pygame_default        True  50540  52409  -1.869\n",
       "1            1   1  pygame_default        True  62844  29922  32.922\n",
       "2            2   2  pygame_default        True  53556  72684 -19.128\n",
       "3            3   3  pygame_default        True  46504  35441  11.063\n",
       "4            4   4  pygame_default        True  49168  35441  13.727\n",
       "..         ...  ..             ...         ...    ...    ...     ...\n",
       "95          95  95  pygame_default       False  49756      0  49.756\n",
       "96          96  96  pygame_default       False  63416      0  63.416\n",
       "97          97  97  pygame_default       False  42472      0  42.472\n",
       "98          98  98  pygame_default       False  50304      0  50.304\n",
       "99          99  99  pygame_default       False  47376      0  47.376\n",
       "\n",
       "[200 rows x 7 columns]"
      ]
     },
     "execution_count": 8,
     "metadata": {},
     "output_type": "execute_result"
    }
   ],
   "source": [
    "dataframes = []\n",
    "for file in files:\n",
    "    dataframes.append(pd.read_csv(f\"./data/{file}\"))\n",
    "data = pd.concat(dataframes)\n",
    "data"
   ]
  },
  {
   "cell_type": "code",
   "execution_count": 10,
   "metadata": {},
   "outputs": [
    {
     "data": {
      "text/plain": [
       "<Axes: xlabel='fw_running', ylabel='ete'>"
      ]
     },
     "execution_count": 10,
     "metadata": {},
     "output_type": "execute_result"
    },
    {
     "data": {
      "image/png": "[encoded data removed]",
      "text/plain": [
       "<Figure size 640x480 with 1 Axes>"
      ]
     },
     "metadata": {},
     "output_type": "display_data"
    }
   ],
   "source": [
    "sns.boxplot(data=data, x='program', y='ete')\n",
    "sns.stripplot(data=data, x='program', y='ete')"
   ]
  },
  {
   "cell_type": "code",
   "execution_count": 11,
   "metadata": {},
   "outputs": [
    {
     "data": {
      "text/plain": [
       "<Axes: xlabel='framework', ylabel='diff'>"
      ]
     },
     "execution_count": 11,
     "metadata": {},
     "output_type": "execute_result"
    },
    {
     "data": {
      "image/png": "[encoded data removed]",
      "text/plain": [
       "<Figure size 640x480 with 1 Axes>"
      ]
     },
     "metadata": {},
     "output_type": "display_data"
    }
   ],
   "source": [
    "# plot framework latencies (only running fw tester)\n",
    "sns.boxplot(data=data[('0' not in data['program'])], x='framework', y='diff')\n",
    "sns.stripplot(data=data[('0' not in data['program'])], x='framework', y='diff')"
   ]
  },
  {
   "cell_type": "code",
   "execution_count": null,
   "metadata": {},
   "outputs": [],
   "source": [
    "# plot framework latencies for default\n",
    "sns.boxplot(data=data[('0' not in data['program']) & (data['complexity'] != 'rects')], x='framework', y='diff')\n",
    "sns.stripplot(data=data[('0' not in data['program']) & (data['complexity'] != 'rects')], x='framework', y='diff')"
   ]
  },
  {
   "cell_type": "code",
   "execution_count": null,
   "metadata": {},
   "outputs": [],
   "source": [
    "# plot framework latencies for rects\n",
    "sns.boxplot(data=data[('0' not in data['program']) & (data['complexity'] != 'default')], x='framework', y='diff')\n",
    "sns.stripplot(data=data[('0' not in data['program']) & (data['complexity'] != 'default')], x='framework', y='diff')"
   ]
  },
  {
   "cell_type": "code",
   "execution_count": null,
   "metadata": {},
   "outputs": [],
   "source": [
    "# plot framework latencies (default and rects)\n",
    "sns.boxplot(data=data[('0' not in data['program']) & (data['complexity'] != 'rects')], x='framework', y='diff')\n",
    "sns.stripplot(data=data[('0' not in data['program']) & (data['complexity'] != 'rects')], x='framework', y='diff')\n",
    "sns.boxplot(data=data[('0' not in data['program']) & (data['complexity'] != 'default')], x='framework', y='diff')\n",
    "sns.stripplot(data=data[('0' not in data['program']) & (data['complexity'] != 'default')], x='framework', y='diff')"
   ]
  }
 ],
 "metadata": {
  "kernelspec": {
   "display_name": "Python 3",
   "language": "python",
   "name": "python3"
  },
  "language_info": {
   "codemirror_mode": {
    "name": "ipython",
    "version": 3
   },
   "file_extension": ".py",
   "mimetype": "text/x-python",
   "name": "python",
   "nbconvert_exporter": "python",
   "pygments_lexer": "ipython3",
   "version": "3.12.0"
  }
 },
 "nbformat": 4,
 "nbformat_minor": 2
}
